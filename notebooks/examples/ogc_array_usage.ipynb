{
  "cells": [
    {
      "cell_type": "markdown",
      "metadata": {},
      "source": [
        "# OGC Array Library Usage Example\n",
        "\n",
        "This notebook demonstrates how to use the OGC Array library to fetch geospatial data from OGC services and create visualizations.\n",
        "\n",
        "## Features Demonstrated:\n",
        "- Fetching data from WCS services\n",
        "- Creating Dask-backed xarray objects\n",
        "- Plotting geospatial data\n",
        "- Working with different coordinate systems\n"
      ]
    },
    {
      "cell_type": "code",
      "execution_count": 1,
      "metadata": {},
      "outputs": [],
      "source": [
        "import ogc_array as oa\n"
      ]
    },
    {
      "cell_type": "code",
      "execution_count": 2,
      "metadata": {},
      "outputs": [],
      "source": [
        "xmin, ymin = 414480, 392134\n",
        "width = 1000\n",
        "\n",
        "xmax = xmin + width\n",
        "ymax = ymin + width\n",
        "\n",
        "bbox = xmin, ymin, xmax, ymax\n"
      ]
    },
    {
      "cell_type": "code",
      "execution_count": 3,
      "metadata": {},
      "outputs": [],
      "source": [
        "url = \"https://environment.data.gov.uk/spatialdata/lidar-composite-digital-terrain-model-dtm-1m/wcs\"\n",
        "layer_id = \"lidar-composite-digital-terrain-model-dtm-1m\"\n",
        "\n",
        "ea_lidar_service = oa.create_wcs_service(url, layer_id)"
      ]
    },
    {
      "cell_type": "code",
      "execution_count": 4,
      "metadata": {},
      "outputs": [
        {
          "ename": "TypeError",
          "evalue": "'<=' not supported between instances of 'tuple' and 'int'",
          "output_type": "error",
          "traceback": [
            "\u001b[0;31m---------------------------------------------------------------------------\u001b[0m",
            "\u001b[0;31mTypeError\u001b[0m                                 Traceback (most recent call last)",
            "Cell \u001b[0;32mIn[4], line 1\u001b[0m\n\u001b[0;32m----> 1\u001b[0m array \u001b[38;5;241m=\u001b[39m \u001b[43moa\u001b[49m\u001b[38;5;241;43m.\u001b[39;49m\u001b[43mload_array\u001b[49m\u001b[43m(\u001b[49m\u001b[43mea_lidar_service\u001b[49m\u001b[43m,\u001b[49m\u001b[43m \u001b[49m\u001b[43mbbox\u001b[49m\u001b[43m)\u001b[49m\n",
            "File \u001b[0;32m~/Data Science/ogc-array/ogc_array/__init__.py:284\u001b[0m, in \u001b[0;36mload_array\u001b[0;34m(service, bbox, chunk_size, **kwargs)\u001b[0m\n\u001b[1;32m    281\u001b[0m     \u001b[38;5;28;01mraise\u001b[39;00m \u001b[38;5;167;01mValueError\u001b[39;00m(\u001b[38;5;124mf\u001b[39m\u001b[38;5;124m\"\u001b[39m\u001b[38;5;124mUnsupported CRS: \u001b[39m\u001b[38;5;132;01m{\u001b[39;00mservice\u001b[38;5;241m.\u001b[39mget(\u001b[38;5;124m'\u001b[39m\u001b[38;5;124mcrs\u001b[39m\u001b[38;5;124m'\u001b[39m)\u001b[38;5;132;01m}\u001b[39;00m\u001b[38;5;124m\"\u001b[39m) \u001b[38;5;28;01mfrom\u001b[39;00m\u001b[38;5;250m \u001b[39m\u001b[38;5;21;01mexc\u001b[39;00m\n\u001b[1;32m    283\u001b[0m \u001b[38;5;66;03m# Create array using the generic function\u001b[39;00m\n\u001b[0;32m--> 284\u001b[0m \u001b[38;5;28;01mreturn\u001b[39;00m \u001b[43mcreate_array\u001b[49m\u001b[43m(\u001b[49m\n\u001b[1;32m    285\u001b[0m \u001b[43m    \u001b[49m\u001b[43mservice_url\u001b[49m\u001b[38;5;241;43m=\u001b[39;49m\u001b[43mservice_url\u001b[49m\u001b[43m,\u001b[49m\n\u001b[1;32m    286\u001b[0m \u001b[43m    \u001b[49m\u001b[43mcoverage_id\u001b[49m\u001b[38;5;241;43m=\u001b[39;49m\u001b[43mcoverage_id\u001b[49m\u001b[43m,\u001b[49m\n\u001b[1;32m    287\u001b[0m \u001b[43m    \u001b[49m\u001b[43mbbox\u001b[49m\u001b[38;5;241;43m=\u001b[39;49m\u001b[43mparsed_bbox\u001b[49m\u001b[43m,\u001b[49m\n\u001b[1;32m    288\u001b[0m \u001b[43m    \u001b[49m\u001b[43mservice_type\u001b[49m\u001b[38;5;241;43m=\u001b[39;49m\u001b[43mservice_type\u001b[49m\u001b[43m,\u001b[49m\n\u001b[1;32m    289\u001b[0m \u001b[43m    \u001b[49m\u001b[43mchunk_size\u001b[49m\u001b[38;5;241;43m=\u001b[39;49m\u001b[43mchunk_size\u001b[49m\u001b[43m,\u001b[49m\n\u001b[1;32m    290\u001b[0m \u001b[43m    \u001b[49m\u001b[43moutput_format\u001b[49m\u001b[38;5;241;43m=\u001b[39;49m\u001b[43moutput_format\u001b[49m\u001b[43m,\u001b[49m\n\u001b[1;32m    291\u001b[0m \u001b[43m    \u001b[49m\u001b[43mcrs\u001b[49m\u001b[38;5;241;43m=\u001b[39;49m\u001b[43mcrs\u001b[49m\u001b[43m,\u001b[49m\n\u001b[1;32m    292\u001b[0m \u001b[43m    \u001b[49m\u001b[43madapter_class\u001b[49m\u001b[38;5;241;43m=\u001b[39;49m\u001b[43mservice\u001b[49m\u001b[38;5;241;43m.\u001b[39;49m\u001b[43mget\u001b[49m\u001b[43m(\u001b[49m\u001b[38;5;124;43m\"\u001b[39;49m\u001b[38;5;124;43madapter_class\u001b[39;49m\u001b[38;5;124;43m\"\u001b[39;49m\u001b[43m)\u001b[49m\u001b[43m,\u001b[49m\n\u001b[1;32m    293\u001b[0m \u001b[43m    \u001b[49m\u001b[38;5;241;43m*\u001b[39;49m\u001b[38;5;241;43m*\u001b[39;49m\u001b[43mkwargs\u001b[49m\n\u001b[1;32m    294\u001b[0m \u001b[43m\u001b[49m\u001b[43m)\u001b[49m\n",
            "File \u001b[0;32m~/Data Science/ogc-array/ogc_array/array.py:341\u001b[0m, in \u001b[0;36mcreate_array\u001b[0;34m(service_url, coverage_id, bbox, service_type, chunk_size, output_format, crs, adapter_class, **kwargs)\u001b[0m\n\u001b[1;32m    317\u001b[0m \u001b[38;5;250m\u001b[39m\u001b[38;5;124;03m\"\"\"\u001b[39;00m\n\u001b[1;32m    318\u001b[0m \u001b[38;5;124;03mCreate an xarray DataArray from a geospatial service.\u001b[39;00m\n\u001b[1;32m    319\u001b[0m \n\u001b[0;32m   (...)\u001b[0m\n\u001b[1;32m    332\u001b[0m \u001b[38;5;124;03m    xarray.DataArray with Dask backend\u001b[39;00m\n\u001b[1;32m    333\u001b[0m \u001b[38;5;124;03m\"\"\"\u001b[39;00m\n\u001b[1;32m    334\u001b[0m builder \u001b[38;5;241m=\u001b[39m ArrayBuilder(\n\u001b[1;32m    335\u001b[0m     service_url\u001b[38;5;241m=\u001b[39mservice_url,\n\u001b[1;32m    336\u001b[0m     coverage_id\u001b[38;5;241m=\u001b[39mcoverage_id,\n\u001b[1;32m    337\u001b[0m     service_type\u001b[38;5;241m=\u001b[39mservice_type,\n\u001b[1;32m    338\u001b[0m     adapter_class\u001b[38;5;241m=\u001b[39madapter_class\n\u001b[1;32m    339\u001b[0m )\n\u001b[0;32m--> 341\u001b[0m \u001b[38;5;28;01mreturn\u001b[39;00m \u001b[43mbuilder\u001b[49m\u001b[38;5;241;43m.\u001b[39;49m\u001b[43mbuild_array\u001b[49m\u001b[43m(\u001b[49m\n\u001b[1;32m    342\u001b[0m \u001b[43m    \u001b[49m\u001b[43mbbox\u001b[49m\u001b[38;5;241;43m=\u001b[39;49m\u001b[43mbbox\u001b[49m\u001b[43m,\u001b[49m\n\u001b[1;32m    343\u001b[0m \u001b[43m    \u001b[49m\u001b[43mchunk_size\u001b[49m\u001b[38;5;241;43m=\u001b[39;49m\u001b[43mchunk_size\u001b[49m\u001b[43m,\u001b[49m\n\u001b[1;32m    344\u001b[0m \u001b[43m    \u001b[49m\u001b[43moutput_format\u001b[49m\u001b[38;5;241;43m=\u001b[39;49m\u001b[43moutput_format\u001b[49m\u001b[43m,\u001b[49m\n\u001b[1;32m    345\u001b[0m \u001b[43m    \u001b[49m\u001b[43mcrs\u001b[49m\u001b[38;5;241;43m=\u001b[39;49m\u001b[43mcrs\u001b[49m\u001b[43m,\u001b[49m\n\u001b[1;32m    346\u001b[0m \u001b[43m    \u001b[49m\u001b[38;5;241;43m*\u001b[39;49m\u001b[38;5;241;43m*\u001b[39;49m\u001b[43mkwargs\u001b[49m\n\u001b[1;32m    347\u001b[0m \u001b[43m\u001b[49m\u001b[43m)\u001b[49m\n",
            "File \u001b[0;32m~/Data Science/ogc-array/ogc_array/array.py:242\u001b[0m, in \u001b[0;36mArrayBuilder.build_array\u001b[0;34m(self, bbox, chunk_size, output_format, crs, tile_size, **kwargs)\u001b[0m\n\u001b[1;32m    227\u001b[0m \u001b[38;5;250m\u001b[39m\u001b[38;5;124;03m\"\"\"\u001b[39;00m\n\u001b[1;32m    228\u001b[0m \u001b[38;5;124;03mBuild an xarray DataArray from the service.\u001b[39;00m\n\u001b[1;32m    229\u001b[0m \n\u001b[0;32m   (...)\u001b[0m\n\u001b[1;32m    239\u001b[0m \u001b[38;5;124;03m    xarray.DataArray with Dask backend\u001b[39;00m\n\u001b[1;32m    240\u001b[0m \u001b[38;5;124;03m\"\"\"\u001b[39;00m\n\u001b[1;32m    241\u001b[0m \u001b[38;5;66;03m# Create tile grid\u001b[39;00m\n\u001b[0;32m--> 242\u001b[0m x_coords, y_coords, grid_shape \u001b[38;5;241m=\u001b[39m \u001b[38;5;28;43mself\u001b[39;49m\u001b[38;5;241;43m.\u001b[39;49m\u001b[43m_create_tile_grid\u001b[49m\u001b[43m(\u001b[49m\u001b[43mbbox\u001b[49m\u001b[43m,\u001b[49m\u001b[43m \u001b[49m\u001b[43mchunk_size\u001b[49m\u001b[43m,\u001b[49m\u001b[43m \u001b[49m\u001b[43mtile_size\u001b[49m\u001b[43m)\u001b[49m\n\u001b[1;32m    244\u001b[0m \u001b[38;5;66;03m# Create delayed functions for each tile\u001b[39;00m\n\u001b[1;32m    245\u001b[0m delayed_tiles \u001b[38;5;241m=\u001b[39m []\n",
            "File \u001b[0;32m~/Data Science/ogc-array/ogc_array/array.py:84\u001b[0m, in \u001b[0;36mArrayBuilder._create_tile_grid\u001b[0;34m(self, bbox, chunk_size, tile_size)\u001b[0m\n\u001b[1;32m     81\u001b[0m     y_size \u001b[38;5;241m=\u001b[39m (bbox\u001b[38;5;241m.\u001b[39mmax_y \u001b[38;5;241m-\u001b[39m bbox\u001b[38;5;241m.\u001b[39mmin_y) \u001b[38;5;241m/\u001b[39m chunk_size[\u001b[38;5;241m1\u001b[39m]\n\u001b[1;32m     82\u001b[0m     tile_size \u001b[38;5;241m=\u001b[39m (x_size, y_size)\n\u001b[0;32m---> 84\u001b[0m \u001b[38;5;28;01mreturn\u001b[39;00m \u001b[43mcreate_tile_grid\u001b[49m\u001b[43m(\u001b[49m\u001b[43mbbox\u001b[49m\u001b[43m,\u001b[49m\u001b[43m \u001b[49m\u001b[43mtile_size\u001b[49m\u001b[43m)\u001b[49m\n",
            "File \u001b[0;32m~/Data Science/ogc-array/ogc_array/core.py:119\u001b[0m, in \u001b[0;36mcreate_tile_grid\u001b[0;34m(bbox, tile_size, overlap)\u001b[0m\n\u001b[1;32m    104\u001b[0m \u001b[38;5;28;01mdef\u001b[39;00m\u001b[38;5;250m \u001b[39m\u001b[38;5;21mcreate_tile_grid\u001b[39m(bbox: BoundingBox, tile_size: \u001b[38;5;28mfloat\u001b[39m, overlap: \u001b[38;5;28mfloat\u001b[39m \u001b[38;5;241m=\u001b[39m \u001b[38;5;241m0.0\u001b[39m) \u001b[38;5;241m-\u001b[39m\u001b[38;5;241m>\u001b[39m List[BoundingBox]:\n\u001b[1;32m    105\u001b[0m \u001b[38;5;250m    \u001b[39m\u001b[38;5;124;03m\"\"\"\u001b[39;00m\n\u001b[1;32m    106\u001b[0m \u001b[38;5;124;03m    Create a grid of tiles covering the bounding box.\u001b[39;00m\n\u001b[1;32m    107\u001b[0m \n\u001b[0;32m   (...)\u001b[0m\n\u001b[1;32m    117\u001b[0m \u001b[38;5;124;03m        ValueError: If tile_size or overlap are negative\u001b[39;00m\n\u001b[1;32m    118\u001b[0m \u001b[38;5;124;03m    \"\"\"\u001b[39;00m\n\u001b[0;32m--> 119\u001b[0m     \u001b[38;5;28;01mif\u001b[39;00m \u001b[43mtile_size\u001b[49m\u001b[43m \u001b[49m\u001b[38;5;241;43m<\u001b[39;49m\u001b[38;5;241;43m=\u001b[39;49m\u001b[43m \u001b[49m\u001b[38;5;241;43m0\u001b[39;49m:\n\u001b[1;32m    120\u001b[0m         \u001b[38;5;28;01mraise\u001b[39;00m \u001b[38;5;167;01mValueError\u001b[39;00m(\u001b[38;5;124m\"\u001b[39m\u001b[38;5;124mtile_size must be positive\u001b[39m\u001b[38;5;124m\"\u001b[39m)\n\u001b[1;32m    121\u001b[0m     \u001b[38;5;28;01mif\u001b[39;00m overlap \u001b[38;5;241m<\u001b[39m \u001b[38;5;241m0\u001b[39m:\n",
            "\u001b[0;31mTypeError\u001b[0m: '<=' not supported between instances of 'tuple' and 'int'"
          ]
        }
      ],
      "source": [
        "array = oa.load_array(ea_lidar_service, bbox)"
      ]
    },
    {
      "cell_type": "code",
      "execution_count": null,
      "metadata": {},
      "outputs": [],
      "source": [
        "array"
      ]
    },
    {
      "cell_type": "code",
      "execution_count": null,
      "metadata": {},
      "outputs": [],
      "source": []
    }
  ],
  "metadata": {
    "kernelspec": {
      "display_name": ".venv",
      "language": "python",
      "name": "python3"
    },
    "language_info": {
      "codemirror_mode": {
        "name": "ipython",
        "version": 3
      },
      "file_extension": ".py",
      "mimetype": "text/x-python",
      "name": "python",
      "nbconvert_exporter": "python",
      "pygments_lexer": "ipython3",
      "version": "3.11.8"
    }
  },
  "nbformat": 4,
  "nbformat_minor": 2
}

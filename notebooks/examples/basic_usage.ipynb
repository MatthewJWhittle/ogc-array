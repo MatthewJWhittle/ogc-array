{
  "cells": [
    {
      "cell_type": "markdown",
      "metadata": {},
      "source": [
        "# Basic Usage Example\n",
        "\n",
        "This notebook demonstrates basic usage of the OGC Array library.\n"
      ]
    },
    {
      "cell_type": "code",
      "execution_count": null,
      "metadata": {},
      "outputs": [],
      "source": [
        "import numpy as np\n",
        "import sys\n",
        "import os\n",
        "\n",
        "# Add the project root to the path for development\n",
        "sys.path.insert(0, os.path.dirname(os.getcwd()))\n"
      ]
    }
  ],
  "metadata": {
    "language_info": {
      "name": "python"
    }
  },
  "nbformat": 4,
  "nbformat_minor": 2
}
